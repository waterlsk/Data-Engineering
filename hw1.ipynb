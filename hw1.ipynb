{
 "cells": [
  {
   "cell_type": "markdown",
   "id": "25bf287f-2d07-4ca1-abf9-6345c8a410f7",
   "metadata": {},
   "source": [
    "# Lovely seat"
   ]
  },
  {
   "cell_type": "code",
   "execution_count": 28,
   "id": "efcb6db3-f592-4d09-9809-c2727d5a032e",
   "metadata": {},
   "outputs": [],
   "source": [
    "lovely_loveseat_description = ['Lovely Loveseat', 'Tufted ployester blend on wood', '32 inches high x 40 inches wide x 30 inches deep', \"Red or White\"]\n",
    "lovely_loveseat_price = 254.00\n",
    "stylish_settee_description = ['Stylish Settee', 'Faux leather on birch', '29.50 inches high x 54.75 inches wide x 28 inches deep', 'Black']\n",
    "stylish_setee_price = 180.50\n",
    "luxurious_lamp_description = ['Luxurious Lamp', 'Glass and iron', '36 inches tall', 'Brown with cream shade']\n",
    "luxurious_lamp_price = 52.15\n",
    "sales_tax = 0.088"
   ]
  },
  {
   "cell_type": "code",
   "execution_count": 29,
   "id": "e0b50849-b3d5-4ba9-ac68-b058f07ba476",
   "metadata": {},
   "outputs": [],
   "source": [
    "customer_one_total = 0\n",
    "customer_one_itemization = \" \""
   ]
  },
  {
   "cell_type": "code",
   "execution_count": 30,
   "id": "941526e6-697b-4d75-a484-414cb2a2cf7e",
   "metadata": {},
   "outputs": [],
   "source": [
    "customer_one_total = lovely_loveseat_price\n",
    "customer_one_itemization = lovely_loveseat_description[:]"
   ]
  },
  {
   "cell_type": "code",
   "execution_count": 31,
   "id": "bd9df948-222b-4f87-803b-7e0fee9f1107",
   "metadata": {},
   "outputs": [],
   "source": [
    "customer_one_total = lovely_loveseat_price + stylish_setee_price\n",
    "customer_one_itemization = lovely_loveseat_description + luxurious_lamp_description"
   ]
  },
  {
   "cell_type": "code",
   "execution_count": 32,
   "id": "725383f7-5ec8-4467-af48-4855c79f3692",
   "metadata": {},
   "outputs": [],
   "source": [
    "customer_one_tax = customer_one_total\n",
    "customer_total = customer_one_itemization\n",
    "sales_tax = 0"
   ]
  },
  {
   "cell_type": "code",
   "execution_count": 33,
   "id": "b969e411-0093-40a4-80cd-0528b4bb9211",
   "metadata": {},
   "outputs": [
    {
     "name": "stdout",
     "output_type": "stream",
     "text": [
      "Customer One Items:  ['Lovely Loveseat', 'Tufted ployester blend on wood', '32 inches high x 40 inches wide x 30 inches deep', 'Red or White', 'Luxurious Lamp', 'Glass and iron', '36 inches tall', 'Brown with cream shade']\n"
     ]
    }
   ],
   "source": [
    "print(\"Customer One Items: \", customer_one_itemization)"
   ]
  },
  {
   "cell_type": "code",
   "execution_count": 34,
   "id": "68f5732b-e9ec-48e7-bd43-23aad084dd29",
   "metadata": {},
   "outputs": [
    {
     "name": "stdout",
     "output_type": "stream",
     "text": [
      "Customer One Total:  434.5\n"
     ]
    }
   ],
   "source": [
    "print(\"Customer One Total: \", customer_one_total)"
   ]
  },
  {
   "cell_type": "code",
   "execution_count": 35,
   "id": "88a6c7fc-e530-4ff7-9167-09384db9ad71",
   "metadata": {},
   "outputs": [
    {
     "name": "stdout",
     "output_type": "stream",
     "text": [
      "Customer One Items:  ['Lovely Loveseat', 'Tufted ployester blend on wood', '32 inches high x 40 inches wide x 30 inches deep', 'Red or White', 'Luxurious Lamp', 'Glass and iron', '36 inches tall', 'Brown with cream shade']\n",
      "Customer One Total:  434.5\n"
     ]
    }
   ],
   "source": [
    "print(\"Customer One Items: \", customer_one_itemization)\n",
    "print(\"Customer One Total: \", customer_one_total)"
   ]
  },
  {
   "cell_type": "code",
   "execution_count": null,
   "id": "f721bb21-e7d6-4b74-8adb-e8a58b40a03a",
   "metadata": {},
   "outputs": [],
   "source": []
  }
 ],
 "metadata": {
  "kernelspec": {
   "display_name": "Python 3 (ipykernel)",
   "language": "python",
   "name": "python3"
  },
  "language_info": {
   "codemirror_mode": {
    "name": "ipython",
    "version": 3
   },
   "file_extension": ".py",
   "mimetype": "text/x-python",
   "name": "python",
   "nbconvert_exporter": "python",
   "pygments_lexer": "ipython3",
   "version": "3.9.7"
  }
 },
 "nbformat": 4,
 "nbformat_minor": 5
}
