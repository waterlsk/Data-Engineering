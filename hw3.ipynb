{
 "cells": [
  {
   "cell_type": "code",
   "execution_count": 1,
   "id": "9044ad12-eb0d-48a5-8da1-ea0356e9787e",
   "metadata": {},
   "outputs": [],
   "source": [
    "import numpy as np"
   ]
  },
  {
   "cell_type": "code",
   "execution_count": 3,
   "id": "93052f77-7e6d-4a90-b0ed-3bcfb182b9de",
   "metadata": {},
   "outputs": [
    {
     "name": "stdout",
     "output_type": "stream",
     "text": [
      "['bouffant', 'pixie', 'dreadlocks', 'crew', 'bowl', 'bob', 'mohawk', 'flattop']\n"
     ]
    }
   ],
   "source": [
    "hairstyles = [\"bouffant\", \"pixie\", \"dreadlocks\", \"crew\", \"bowl\", \"bob\", \"mohawk\", \"flattop\"]\n",
    "print(hairstyles)"
   ]
  },
  {
   "cell_type": "code",
   "execution_count": 4,
   "id": "ab6173f7-588a-4b95-9056-74fdd61f8ea3",
   "metadata": {},
   "outputs": [
    {
     "name": "stdout",
     "output_type": "stream",
     "text": [
      "[30, 25, 40, 20, 20, 35, 50, 35]\n"
     ]
    }
   ],
   "source": [
    "prices = [30, 25, 40, 20, 20, 35, 50, 35]\n",
    "print(prices)"
   ]
  },
  {
   "cell_type": "code",
   "execution_count": 5,
   "id": "111744fe-e389-4e51-85ab-41fea1d26b3a",
   "metadata": {},
   "outputs": [
    {
     "name": "stdout",
     "output_type": "stream",
     "text": [
      "[2, 3, 5, 8, 4, 4, 6, 2]\n"
     ]
    }
   ],
   "source": [
    "last_week = [2, 3, 5, 8, 4, 4, 6, 2]\n",
    "print(last_week)"
   ]
  },
  {
   "cell_type": "code",
   "execution_count": 23,
   "id": "a9e340e3-c793-4387-9753-04c1458bbc8d",
   "metadata": {},
   "outputs": [],
   "source": [
    "total_price = 0"
   ]
  },
  {
   "cell_type": "code",
   "execution_count": 24,
   "id": "f18a59d3-1df9-488f-bbbb-0bd890b05802",
   "metadata": {},
   "outputs": [
    {
     "name": "stdout",
     "output_type": "stream",
     "text": [
      "255\n"
     ]
    }
   ],
   "source": [
    "for i in prices:\n",
    "    total_price += i\n",
    "print(total_price)"
   ]
  },
  {
   "cell_type": "code",
   "execution_count": 30,
   "id": "9ce83988-9b66-4b50-82d8-c4fe7196f541",
   "metadata": {},
   "outputs": [
    {
     "name": "stdout",
     "output_type": "stream",
     "text": [
      "31.875\n"
     ]
    }
   ],
   "source": [
    "average_price = total_price/len(prices)\n",
    "print(average_price)"
   ]
  },
  {
   "cell_type": "code",
   "execution_count": 32,
   "id": "27f8358a-ea35-44ef-93d6-40053eebd601",
   "metadata": {},
   "outputs": [
    {
     "name": "stdout",
     "output_type": "stream",
     "text": [
      "[25, 20, 35, 15, 15, 30, 45, 30]\n"
     ]
    }
   ],
   "source": [
    "new_price = [price-5 for price in prices]\n",
    "print(new_price)"
   ]
  },
  {
   "cell_type": "code",
   "execution_count": 44,
   "id": "ba510e2a-a170-4f26-9418-479daed0a604",
   "metadata": {},
   "outputs": [],
   "source": [
    "total_revenue = 0"
   ]
  },
  {
   "cell_type": "code",
   "execution_count": 45,
   "id": "8a9c1bf4-57e3-4a06-bd7d-99a4427f2981",
   "metadata": {},
   "outputs": [],
   "source": [
    "for i in range(0,len(hairstyles)):\n",
    "    total_revenue += prices[i] * last_week[i]"
   ]
  },
  {
   "cell_type": "code",
   "execution_count": 46,
   "id": "bfbf5e46-2c76-4788-9cfa-d447fce63e64",
   "metadata": {},
   "outputs": [
    {
     "data": {
      "text/plain": [
       "1085"
      ]
     },
     "execution_count": 46,
     "metadata": {},
     "output_type": "execute_result"
    }
   ],
   "source": [
    "total_revenue"
   ]
  },
  {
   "cell_type": "code",
   "execution_count": 47,
   "id": "970c245d-8ca4-497f-ae96-45318a325ee2",
   "metadata": {},
   "outputs": [
    {
     "name": "stdout",
     "output_type": "stream",
     "text": [
      "155.0\n"
     ]
    }
   ],
   "source": [
    "average_daily_revenue=total_revenue/7\n",
    "print(average_daily_revenue)"
   ]
  },
  {
   "cell_type": "code",
   "execution_count": 65,
   "id": "d5429a37-e2be-4ea9-805c-b5a10893c750",
   "metadata": {},
   "outputs": [],
   "source": [
    "cuts_under_30=[]"
   ]
  },
  {
   "cell_type": "code",
   "execution_count": 66,
   "id": "f65fdb0c-4edf-453e-98b9-e5d1e3e8f508",
   "metadata": {},
   "outputs": [
    {
     "name": "stdout",
     "output_type": "stream",
     "text": [
      "['b', 'o', 'u', 'f', 'f', 'a', 'n', 't', ' ', 'p', 'i', 'x', 'i', 'e', ' ', 'c', 'r', 'e', 'w', ' ', 'b', 'o', 'w', 'l', ' ']\n"
     ]
    }
   ],
   "source": [
    "for i in range(0, len(new_price)-1):\n",
    "    if new_price[i] < 30:\n",
    "        cuts_under_30 += hairstyles[i]+\" \"\n",
    "print(cuts_under_30)"
   ]
  },
  {
   "cell_type": "code",
   "execution_count": null,
   "id": "6d2cdc23-d544-42cf-82e8-a8bd3ffed680",
   "metadata": {},
   "outputs": [],
   "source": []
  }
 ],
 "metadata": {
  "kernelspec": {
   "display_name": "Python 3 (ipykernel)",
   "language": "python",
   "name": "python3"
  },
  "language_info": {
   "codemirror_mode": {
    "name": "ipython",
    "version": 3
   },
   "file_extension": ".py",
   "mimetype": "text/x-python",
   "name": "python",
   "nbconvert_exporter": "python",
   "pygments_lexer": "ipython3",
   "version": "3.9.7"
  }
 },
 "nbformat": 4,
 "nbformat_minor": 5
}
